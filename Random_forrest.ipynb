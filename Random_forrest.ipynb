{
  "nbformat": 4,
  "nbformat_minor": 0,
  "metadata": {
    "colab": {
      "name": "Random_forrest.ipynb",
      "provenance": [],
      "collapsed_sections": []
    },
    "kernelspec": {
      "name": "python3",
      "display_name": "Python 3"
    }
  },
  "cells": [
    {
      "cell_type": "markdown",
      "metadata": {
        "id": "re0ODK2Zdglf"
      },
      "source": [
        "# Random Forrest regression model"
      ]
    },
    {
      "cell_type": "code",
      "metadata": {
        "colab": {
          "base_uri": "https://localhost:8080/"
        },
        "id": "vr6ltvXMujz_",
        "outputId": "1e9dd70c-2daf-4796-d74b-f63efed4d7d0"
      },
      "source": [
        "from google.colab import drive\n",
        "\n",
        "drive.mount('/content/drive')"
      ],
      "execution_count": 1,
      "outputs": [
        {
          "output_type": "stream",
          "text": [
            "Mounted at /content/drive\n"
          ],
          "name": "stdout"
        }
      ]
    },
    {
      "cell_type": "markdown",
      "metadata": {
        "id": "war17utog_wh"
      },
      "source": [
        "### Importing the recquired packages"
      ]
    },
    {
      "cell_type": "code",
      "metadata": {
        "id": "2PLhWlFqvLK-"
      },
      "source": [
        "import pandas as pd\n",
        "import numpy as np\n",
        "from sklearn import datasets\n",
        "from sklearn.model_selection import train_test_split  \n",
        "from sklearn import metrics\n",
        "from sklearn.preprocessing import StandardScaler\n",
        "from sklearn.metrics import *\n",
        "from sklearn import preprocessing\n",
        "from sklearn.metrics import mean_squared_error \n",
        "from math import sqrt\n",
        "from sklearn.ensemble import RandomForestRegressor\n",
        "from numpy.random import seed\n",
        "\n",
        "import matplotlib.pyplot as plt\n",
        "%matplotlib inline"
      ],
      "execution_count": 4,
      "outputs": []
    },
    {
      "cell_type": "code",
      "metadata": {
        "id": "Wj9UvoVjdzBO"
      },
      "source": [
        "seed(1)"
      ],
      "execution_count": 5,
      "outputs": []
    },
    {
      "cell_type": "markdown",
      "metadata": {
        "id": "ti_aghyfd7t6"
      },
      "source": [
        "### Loading the data into the dataframe"
      ]
    },
    {
      "cell_type": "code",
      "metadata": {
        "id": "W3qnPCdJvMm0"
      },
      "source": [
        "df_md = pd.read_csv(\"/content/drive/My Drive/CSV Files/Std_mdb.csv\", index_col=[0])"
      ],
      "execution_count": 7,
      "outputs": []
    },
    {
      "cell_type": "code",
      "metadata": {
        "id": "9hC0wfTevTiC"
      },
      "source": [
        "df_md.drop(['sealevel','avgT','maxT','minT','slp','avgRH','PP','avgW','VM','CO2_percapita'], axis = 1 ,inplace=True)"
      ],
      "execution_count": 8,
      "outputs": []
    },
    {
      "cell_type": "markdown",
      "metadata": {
        "id": "5YmMW-w5eCzn"
      },
      "source": [
        "### Splitting the data into training and testing sets"
      ]
    },
    {
      "cell_type": "code",
      "metadata": {
        "id": "9Nc8qYTUxEje"
      },
      "source": [
        "train , test = train_test_split(df_md, test_size = 0.20,random_state = 0)"
      ],
      "execution_count": 9,
      "outputs": []
    },
    {
      "cell_type": "code",
      "metadata": {
        "id": "Z6wR75KZxEnI"
      },
      "source": [
        "x_train = train.drop('Std_sealevel', axis=1)\n",
        "y_train = train['Std_sealevel']\n",
        "\n",
        "x_test = test.drop('Std_sealevel', axis=1)\n",
        "y_test = test['Std_sealevel']"
      ],
      "execution_count": 10,
      "outputs": []
    },
    {
      "cell_type": "markdown",
      "metadata": {
        "id": "rrZBXf-5eLmv"
      },
      "source": [
        "### Fitting the model"
      ]
    },
    {
      "cell_type": "code",
      "metadata": {
        "colab": {
          "base_uri": "https://localhost:8080/"
        },
        "id": "CVHP1oSexEqh",
        "outputId": "d4649182-d5a6-4207-a2d6-14dd353faa28"
      },
      "source": [
        "regressor = RandomForestRegressor(n_estimators= 10, random_state= 1)\n",
        "regressor.fit(x_train,y_train)"
      ],
      "execution_count": 28,
      "outputs": [
        {
          "output_type": "execute_result",
          "data": {
            "text/plain": [
              "RandomForestRegressor(bootstrap=True, ccp_alpha=0.0, criterion='mse',\n",
              "                      max_depth=None, max_features='auto', max_leaf_nodes=None,\n",
              "                      max_samples=None, min_impurity_decrease=0.0,\n",
              "                      min_impurity_split=None, min_samples_leaf=1,\n",
              "                      min_samples_split=2, min_weight_fraction_leaf=0.0,\n",
              "                      n_estimators=10, n_jobs=None, oob_score=False,\n",
              "                      random_state=1, verbose=0, warm_start=False)"
            ]
          },
          "metadata": {
            "tags": []
          },
          "execution_count": 28
        }
      ]
    },
    {
      "cell_type": "markdown",
      "metadata": {
        "id": "PxRdlyC5effb"
      },
      "source": [
        "### Utilizing the model to generate predictions"
      ]
    },
    {
      "cell_type": "code",
      "metadata": {
        "id": "Vrlva166xEuW"
      },
      "source": [
        "predict = regressor.predict(x_test)"
      ],
      "execution_count": 29,
      "outputs": []
    },
    {
      "cell_type": "markdown",
      "metadata": {
        "id": "w7zSFiOfeklo"
      },
      "source": [
        "### Calculating the r-squared, adjusted r-squared and the RMSE of the model"
      ]
    },
    {
      "cell_type": "code",
      "metadata": {
        "colab": {
          "base_uri": "https://localhost:8080/"
        },
        "id": "WwXm5NkfxEx0",
        "outputId": "ef093802-6fb5-427b-eb40-62276409b6a4"
      },
      "source": [
        "r21 = r2_score(y_test,predict).round(3)\n",
        "print(f\"The r-squared value of the new fit is\", r21)\n",
        "p = len(x_train.columns) \n",
        "n = len(x_train)\n",
        "r21_adj = 1 - ((1-r21) * (n-1) / (n-p-1))\n",
        "rms = sqrt(mean_squared_error(y_test, predict))\n",
        "print(f\"The adjusted r-squared value of the new fit is\", r21_adj)\n",
        "print(f'The RMSE value of the fit is',rms)"
      ],
      "execution_count": 30,
      "outputs": [
        {
          "output_type": "stream",
          "text": [
            "The r-squared value of the new fit is 0.959\n",
            "The adjusted r-squared value of the new fit is 0.9585204678362573\n",
            "The RMSE value of the fit is 0.0025509794884908442\n"
          ],
          "name": "stdout"
        }
      ]
    },
    {
      "cell_type": "markdown",
      "metadata": {
        "id": "mCJOaUcCep4w"
      },
      "source": [
        "### Diagnostic Plots "
      ]
    },
    {
      "cell_type": "code",
      "metadata": {
        "colab": {
          "base_uri": "https://localhost:8080/",
          "height": 295
        },
        "id": "PBH3Cl_axE1b",
        "outputId": "51df627d-edb8-4a47-bddc-93d9fc565d5c"
      },
      "source": [
        "plt.scatter(predict,y_test)\n",
        "x = np.linspace(0.23,0.285,1000)\n",
        "plt.plot(x,x, linestyle = 'solid', color = \"red\")\n",
        "plt.xlabel(\"Predicted Values\")\n",
        "plt.ylabel(\"Actual Values\")\n",
        "plt.title(\"Predicted Values vs Actual Values of the new model\")\n",
        "plt.show()"
      ],
      "execution_count": 14,
      "outputs": [
        {
          "output_type": "display_data",
          "data": {
            "image/png": "[encoded data removed]",
            "text/plain": [
              "<Figure size 432x288 with 1 Axes>"
            ]
          },
          "metadata": {
            "tags": [],
            "needs_background": "light"
          }
        }
      ]
    },
    {
      "cell_type": "code",
      "metadata": {
        "colab": {
          "base_uri": "https://localhost:8080/",
          "height": 295
        },
        "id": "1nEiLrrjxE5Z",
        "outputId": "ba626cb3-ee89-47dc-8be2-5857233cfa0e"
      },
      "source": [
        "res = y_test - predict\n",
        "res_stand = (res - res.mean())/res.std()\n",
        "plt.scatter(predict, res_stand )\n",
        "plt.axhline(y = 0, color = 'red' )\n",
        "plt.title(\"Predicted Values vs Residuals of the new model\")\n",
        "plt.xlabel(\"Predicted values\")\n",
        "plt.ylabel(\"Residuals\")\n",
        "plt.show()"
      ],
      "execution_count": 15,
      "outputs": [
        {
          "output_type": "display_data",
          "data": {
            "image/png": "[encoded data removed]",
            "text/plain": [
              "<Figure size 432x288 with 1 Axes>"
            ]
          },
          "metadata": {
            "tags": [],
            "needs_background": "light"
          }
        }
      ]
    }
  ]
}