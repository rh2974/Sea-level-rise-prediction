{
 "cells": [
  {
   "cell_type": "markdown",
   "metadata": {
    "id": "5gfhiklEgDch"
   },
   "source": [
    "# DNN model"
   ]
  },
  {
   "cell_type": "markdown",
   "metadata": {
    "id": "lwRv4Kohg1T7"
   },
   "source": [
    "### Importing the recquired packages"
   ]
  },
  {
   "cell_type": "code",
   "execution_count": 1,
   "metadata": {
    "id": "OkSC1OfAI2rv"
   },
   "outputs": [
    {
     "ename": "ImportError",
     "evalue": "cannot import name 'set_random_seed' from 'tensorflow' (C:\\Users\\srika\\Anaconda3\\lib\\site-packages\\tensorflow\\__init__.py)",
     "output_type": "error",
     "traceback": [
      "\u001b[1;31m---------------------------------------------------------------------------\u001b[0m",
      "\u001b[1;31mImportError\u001b[0m                               Traceback (most recent call last)",
      "\u001b[1;32m<ipython-input-1-a73abb0e5973>\u001b[0m in \u001b[0;36m<module>\u001b[1;34m\u001b[0m\n\u001b[0;32m     18\u001b[0m \u001b[1;32mfrom\u001b[0m \u001b[0mtensorflow\u001b[0m\u001b[1;33m.\u001b[0m\u001b[0mpython\u001b[0m\u001b[1;33m.\u001b[0m\u001b[0mkeras\u001b[0m\u001b[1;33m.\u001b[0m\u001b[0mlayers\u001b[0m \u001b[1;32mimport\u001b[0m \u001b[0mDense\u001b[0m\u001b[1;33m\u001b[0m\u001b[1;33m\u001b[0m\u001b[0m\n\u001b[0;32m     19\u001b[0m \u001b[1;32mfrom\u001b[0m \u001b[0mtensorflow\u001b[0m\u001b[1;33m.\u001b[0m\u001b[0mpython\u001b[0m\u001b[1;33m.\u001b[0m\u001b[0mkeras\u001b[0m\u001b[1;33m.\u001b[0m\u001b[0mwrappers\u001b[0m\u001b[1;33m.\u001b[0m\u001b[0mscikit_learn\u001b[0m \u001b[1;32mimport\u001b[0m \u001b[0mKerasRegressor\u001b[0m\u001b[1;33m\u001b[0m\u001b[1;33m\u001b[0m\u001b[0m\n\u001b[1;32m---> 20\u001b[1;33m \u001b[1;32mfrom\u001b[0m \u001b[0mtensorflow\u001b[0m \u001b[1;32mimport\u001b[0m \u001b[0mset_random_seed\u001b[0m\u001b[1;33m\u001b[0m\u001b[1;33m\u001b[0m\u001b[0m\n\u001b[0m\u001b[0;32m     21\u001b[0m \u001b[1;32mimport\u001b[0m \u001b[0mitertools\u001b[0m\u001b[1;33m\u001b[0m\u001b[1;33m\u001b[0m\u001b[0m\n\u001b[0;32m     22\u001b[0m \u001b[1;32mfrom\u001b[0m \u001b[0mnumpy\u001b[0m\u001b[1;33m.\u001b[0m\u001b[0mrandom\u001b[0m \u001b[1;32mimport\u001b[0m \u001b[0mseed\u001b[0m\u001b[1;33m\u001b[0m\u001b[1;33m\u001b[0m\u001b[0m\n",
      "\u001b[1;31mImportError\u001b[0m: cannot import name 'set_random_seed' from 'tensorflow' (C:\\Users\\srika\\Anaconda3\\lib\\site-packages\\tensorflow\\__init__.py)"
     ]
    }
   ],
   "source": [
    "import pandas as pd\n",
    "import numpy as np\n",
    "import seaborn as sns\n",
    "from sklearn import datasets\n",
    "from sklearn.model_selection import train_test_split  \n",
    "from sklearn import metrics\n",
    "from sklearn.preprocessing import StandardScaler\n",
    "from sklearn.metrics import *\n",
    "from sklearn import preprocessing\n",
    "from sklearn.metrics import mean_squared_error \n",
    "from math import sqrt\n",
    "from sklearn.model_selection import train_test_split\n",
    "from sklearn.model_selection import cross_val_score\n",
    "from sklearn.model_selection import KFold\n",
    "from sklearn.pipeline import Pipeline\n",
    "from sklearn.preprocessing import MinMaxScaler\n",
    "from tensorflow.python.keras.models import Sequential\n",
    "from tensorflow.python.keras.layers import Dense\n",
    "from tensorflow.python.keras.wrappers.scikit_learn import KerasRegressor\n",
    "from tensorflow import set_random_seed\n",
    "import itertools\n",
    "from numpy.random import seed\n",
    "\n",
    "import matplotlib.pyplot as plt\n",
    "%matplotlib inline"
   ]
  },
  {
   "cell_type": "markdown",
   "metadata": {
    "id": "zdIPy3Ongz1_"
   },
   "source": [
    "### Loading the data into the dataframe"
   ]
  },
  {
   "cell_type": "code",
   "execution_count": null,
   "metadata": {
    "id": "YOgbYlXjI2u3"
   },
   "outputs": [],
   "source": [
    "df_md = pd.read_csv(\"Std_mdb.csv\", index_col=[0])"
   ]
  },
  {
   "cell_type": "markdown",
   "metadata": {
    "id": "iWSzpkMLgxU6"
   },
   "source": [
    "### Splitting the data into training and testing sets"
   ]
  },
  {
   "cell_type": "code",
   "execution_count": null,
   "metadata": {},
   "outputs": [],
   "source": [
    "seed(1)\n",
    "set_random_seed(2)"
   ]
  },
  {
   "cell_type": "code",
   "execution_count": null,
   "metadata": {
    "id": "iOeT8OFEI20t"
   },
   "outputs": [],
   "source": [
    "train , test = train_test_split(df_md, test_size = 0.20,random_state = 0)"
   ]
  },
  {
   "cell_type": "code",
   "execution_count": null,
   "metadata": {
    "id": "IAWynq75I230"
   },
   "outputs": [],
   "source": [
    "x_train = train.drop('Std_sealevel', axis=1)\n",
    "y_train = train['Std_sealevel']\n",
    "\n",
    "x_test = test.drop('Std_sealevel', axis=1)\n",
    "y_test = test['Std_sealevel']"
   ]
  },
  {
   "cell_type": "markdown",
   "metadata": {
    "id": "bAHu7PA8ga7I"
   },
   "source": [
    "### Fitting the model"
   ]
  },
  {
   "cell_type": "code",
   "execution_count": null,
   "metadata": {
    "colab": {
     "base_uri": "https://localhost:8080/"
    },
    "id": "plZsfWsCI3NJ",
    "outputId": "8f66eb66-0f65-407b-ee3f-be98d3876196"
   },
   "outputs": [],
   "source": [
    "model = Sequential()\n",
    "model.add(Dense(12, input_dim=7, kernel_initializer='normal', activation='relu'))\n",
    "model.add(Dense(250, activation='elu'))\n",
    "model.add(Dense(250, activation='elu'))\n",
    "model.add(Dense(250, activation='elu'))\n",
    "model.add(Dense(1, activation='linear'))\n",
    "model.summary()"
   ]
  },
  {
   "cell_type": "code",
   "execution_count": null,
   "metadata": {
    "id": "SRdPlC_AI3Qj"
   },
   "outputs": [],
   "source": [
    "model.compile(loss='mse', optimizer='adam', metrics=['mse','mae'])"
   ]
  },
  {
   "cell_type": "code",
   "execution_count": null,
   "metadata": {
    "colab": {
     "base_uri": "https://localhost:8080/"
    },
    "id": "1Powvqu9I3Tq",
    "outputId": "482429be-9043-48d0-e19d-4097c91805d1"
   },
   "outputs": [],
   "source": [
    "history = model.fit(x_train, y_train, epochs=700, batch_size=50,  verbose=1, validation_split=0.2)"
   ]
  },
  {
   "cell_type": "markdown",
   "metadata": {
    "id": "PCersJgVgU_l"
   },
   "source": [
    "### Utilizing the model to generate predictions"
   ]
  },
  {
   "cell_type": "code",
   "execution_count": null,
   "metadata": {
    "id": "1ElSnO2VKoQW"
   },
   "outputs": [],
   "source": [
    "predict = model.predict(x_test)"
   ]
  },
  {
   "cell_type": "markdown",
   "metadata": {
    "id": "tj6lO1tJgRLu"
   },
   "source": [
    "### Calculating the r-squared, adjusted r-squared and the RMSE of the model"
   ]
  },
  {
   "cell_type": "code",
   "execution_count": null,
   "metadata": {
    "colab": {
     "base_uri": "https://localhost:8080/"
    },
    "id": "YTi9YcUbLAhE",
    "outputId": "7305887f-3be6-4eda-d9b4-68da92fc98bc"
   },
   "outputs": [],
   "source": [
    "r21 = r2_score(y_test,predict).round(3)\n",
    "print(f\"The r-squared value of the new fit is\", r21)\n",
    "p = len(x_train.columns) \n",
    "n = len(x_train)\n",
    "r21_adj = 1 - ((1-r21) * (n-1) / (n-p-1))\n",
    "rms = sqrt(mean_squared_error(y_test, predict))\n",
    "print(f\"The adjusted r-squared value of the new fit is\", r21_adj)\n",
    "print(f'The RMSE value of the fit is',rms)"
   ]
  },
  {
   "cell_type": "markdown",
   "metadata": {
    "id": "BbTvqklSgLJq"
   },
   "source": [
    "### Diagnostic Plots "
   ]
  },
  {
   "cell_type": "code",
   "execution_count": null,
   "metadata": {
    "colab": {
     "base_uri": "https://localhost:8080/",
     "height": 295
    },
    "id": "2s0Bb7YqLEwe",
    "outputId": "feefd398-38f9-47e5-e16c-c6bc177a997e"
   },
   "outputs": [],
   "source": [
    "plt.scatter(predict,y_test)\n",
    "x = np.linspace(0.23,0.285,1000)\n",
    "plt.plot(x,x, linestyle = 'solid', color = \"red\")\n",
    "plt.xlabel(\"Predicted Values\")\n",
    "plt.ylabel(\"Actual Values\")\n",
    "plt.title(\"Predicted Values vs Actual Values of the new model\")\n",
    "plt.show()"
   ]
  },
  {
   "cell_type": "code",
   "execution_count": null,
   "metadata": {
    "colab": {
     "base_uri": "https://localhost:8080/",
     "height": 295
    },
    "id": "QzY2cz4YLJSL",
    "outputId": "3ba78110-c2b3-46f5-c9f9-fe858b300a20"
   },
   "outputs": [],
   "source": [
    "res = y_test - list(itertools.chain.from_iterable(predict.tolist()))\n",
    "res_stand = (res - res.mean())/res.std()\n",
    "plt.scatter(predict, res_stand )\n",
    "plt.axhline(y = 0, color = 'red' )\n",
    "plt.title(\"Predicted Values vs Residuals of the new model\")\n",
    "plt.xlabel(\"Predicted values\")\n",
    "plt.ylabel(\"Residuals\")\n",
    "plt.show()"
   ]
  },
  {
   "cell_type": "code",
   "execution_count": null,
   "metadata": {},
   "outputs": [],
   "source": []
  }
 ],
 "metadata": {
  "colab": {
   "name": "Neural_network.ipynb",
   "provenance": []
  },
  "kernelspec": {
   "display_name": "Python 3",
   "language": "python",
   "name": "python3"
  },
  "language_info": {
   "codemirror_mode": {
    "name": "ipython",
    "version": 3
   },
   "file_extension": ".py",
   "mimetype": "text/x-python",
   "name": "python",
   "nbconvert_exporter": "python",
   "pygments_lexer": "ipython3",
   "version": "3.7.4"
  }
 },
 "nbformat": 4,
 "nbformat_minor": 1
}
