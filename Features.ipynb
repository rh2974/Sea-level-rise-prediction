{
  "nbformat": 4,
  "nbformat_minor": 0,
  "metadata": {
    "colab": {
      "name": "Features.ipynb",
      "provenance": []
    },
    "kernelspec": {
      "name": "python3",
      "display_name": "Python 3"
    }
  },
  "cells": [
    {
      "cell_type": "code",
      "metadata": {
        "colab": {
          "base_uri": "https://localhost:8080/"
        },
        "id": "GXV0qigsBqmM",
        "outputId": "168caa4c-9553-4ee2-a260-554c4fab54f4"
      },
      "source": [
        "from google.colab import drive\n",
        "\n",
        "drive.mount('/content/drive')"
      ],
      "execution_count": 1,
      "outputs": [
        {
          "output_type": "stream",
          "text": [
            "Mounted at /content/drive\n"
          ],
          "name": "stdout"
        }
      ]
    },
    {
      "cell_type": "code",
      "metadata": {
        "colab": {
          "base_uri": "https://localhost:8080/"
        },
        "id": "mFM_DrdWBsD6",
        "outputId": "5487f5ee-597d-4ae6-c9fb-b89c245b6018"
      },
      "source": [
        "import pandas as pd\n",
        "import numpy as np\n",
        "import matplotlib.pyplot as plt\n",
        "import seaborn as sns\n",
        "from sklearn import datasets\n",
        "from statsmodels.graphics.tsaplots import *"
      ],
      "execution_count": 2,
      "outputs": [
        {
          "output_type": "stream",
          "text": [
            "/usr/local/lib/python3.6/dist-packages/statsmodels/tools/_testing.py:19: FutureWarning: pandas.util.testing is deprecated. Use the functions in the public API at pandas.testing instead.\n",
            "  import pandas.util.testing as tm\n"
          ],
          "name": "stderr"
        }
      ]
    },
    {
      "cell_type": "markdown",
      "metadata": {
        "id": "B03EtB60odit"
      },
      "source": [
        "### Importing the master database and removing the unnecessary columns"
      ]
    },
    {
      "cell_type": "code",
      "metadata": {
        "id": "ImDTj9lPByba"
      },
      "source": [
        "df_md = pd.read_csv(\"/content/drive/My Drive/CSV Files/masterDB.csv\")"
      ],
      "execution_count": 16,
      "outputs": []
    },
    {
      "cell_type": "code",
      "metadata": {
        "id": "CEi8mhK_B5_l"
      },
      "source": [
        "del df_md['RA']\n",
        "del df_md['SN']\n",
        "del df_md['FG']\n",
        "del df_md['TS']\n",
        "del df_md['VV']\n",
        "del df_md['index']"
      ],
      "execution_count": 17,
      "outputs": []
    },
    {
      "cell_type": "markdown",
      "metadata": {
        "id": "9cZG_TNUJ1y1"
      },
      "source": [
        ""
      ]
    },
    {
      "cell_type": "markdown",
      "metadata": {
        "id": "Y1soiAmjpxCr"
      },
      "source": [
        "### Dropping the NA values from the sealevel column"
      ]
    },
    {
      "cell_type": "code",
      "metadata": {
        "id": "YdTFMM2TJ77M"
      },
      "source": [
        "df_md.drop(df_md[df_md['sealevel'] ==  -99999].index, inplace = True)"
      ],
      "execution_count": 18,
      "outputs": []
    },
    {
      "cell_type": "markdown",
      "metadata": {
        "id": "noC7pVOzKVzJ"
      },
      "source": [
        "### Checking the initial correlation"
      ]
    },
    {
      "cell_type": "code",
      "metadata": {
        "colab": {
          "base_uri": "https://localhost:8080/",
          "height": 394
        },
        "id": "NqgMluhiJqe3",
        "outputId": "71956957-a10b-41aa-c8d4-df4af40c369c"
      },
      "source": [
        "df_md.corr().round(3)"
      ],
      "execution_count": 19,
      "outputs": [
        {
          "output_type": "execute_result",
          "data": {
            "text/html": [
              "<div>\n",
              "<style scoped>\n",
              "    .dataframe tbody tr th:only-of-type {\n",
              "        vertical-align: middle;\n",
              "    }\n",
              "\n",
              "    .dataframe tbody tr th {\n",
              "        vertical-align: top;\n",
              "    }\n",
              "\n",
              "    .dataframe thead th {\n",
              "        text-align: right;\n",
              "    }\n",
              "</style>\n",
              "<table border=\"1\" class=\"dataframe\">\n",
              "  <thead>\n",
              "    <tr style=\"text-align: right;\">\n",
              "      <th></th>\n",
              "      <th>Year</th>\n",
              "      <th>sealevel</th>\n",
              "      <th>avgT</th>\n",
              "      <th>maxT</th>\n",
              "      <th>minT</th>\n",
              "      <th>slp</th>\n",
              "      <th>avgRH</th>\n",
              "      <th>PP</th>\n",
              "      <th>avgW</th>\n",
              "      <th>VM</th>\n",
              "      <th>CO2_percapita</th>\n",
              "    </tr>\n",
              "  </thead>\n",
              "  <tbody>\n",
              "    <tr>\n",
              "      <th>Year</th>\n",
              "      <td>1.000</td>\n",
              "      <td>0.910</td>\n",
              "      <td>0.382</td>\n",
              "      <td>0.324</td>\n",
              "      <td>0.416</td>\n",
              "      <td>0.026</td>\n",
              "      <td>-0.279</td>\n",
              "      <td>0.190</td>\n",
              "      <td>-0.604</td>\n",
              "      <td>-0.667</td>\n",
              "      <td>0.966</td>\n",
              "    </tr>\n",
              "    <tr>\n",
              "      <th>sealevel</th>\n",
              "      <td>0.910</td>\n",
              "      <td>1.000</td>\n",
              "      <td>0.194</td>\n",
              "      <td>0.194</td>\n",
              "      <td>0.197</td>\n",
              "      <td>0.321</td>\n",
              "      <td>-0.446</td>\n",
              "      <td>0.016</td>\n",
              "      <td>-0.556</td>\n",
              "      <td>-0.631</td>\n",
              "      <td>0.867</td>\n",
              "    </tr>\n",
              "    <tr>\n",
              "      <th>avgT</th>\n",
              "      <td>0.382</td>\n",
              "      <td>0.194</td>\n",
              "      <td>1.000</td>\n",
              "      <td>0.889</td>\n",
              "      <td>0.949</td>\n",
              "      <td>-0.573</td>\n",
              "      <td>0.117</td>\n",
              "      <td>0.169</td>\n",
              "      <td>-0.011</td>\n",
              "      <td>-0.124</td>\n",
              "      <td>0.383</td>\n",
              "    </tr>\n",
              "    <tr>\n",
              "      <th>maxT</th>\n",
              "      <td>0.324</td>\n",
              "      <td>0.194</td>\n",
              "      <td>0.889</td>\n",
              "      <td>1.000</td>\n",
              "      <td>0.748</td>\n",
              "      <td>-0.359</td>\n",
              "      <td>-0.090</td>\n",
              "      <td>0.002</td>\n",
              "      <td>0.050</td>\n",
              "      <td>-0.060</td>\n",
              "      <td>0.327</td>\n",
              "    </tr>\n",
              "    <tr>\n",
              "      <th>minT</th>\n",
              "      <td>0.416</td>\n",
              "      <td>0.197</td>\n",
              "      <td>0.949</td>\n",
              "      <td>0.748</td>\n",
              "      <td>1.000</td>\n",
              "      <td>-0.667</td>\n",
              "      <td>0.298</td>\n",
              "      <td>0.300</td>\n",
              "      <td>-0.069</td>\n",
              "      <td>-0.156</td>\n",
              "      <td>0.407</td>\n",
              "    </tr>\n",
              "    <tr>\n",
              "      <th>slp</th>\n",
              "      <td>0.026</td>\n",
              "      <td>0.321</td>\n",
              "      <td>-0.573</td>\n",
              "      <td>-0.359</td>\n",
              "      <td>-0.667</td>\n",
              "      <td>1.000</td>\n",
              "      <td>-0.568</td>\n",
              "      <td>-0.458</td>\n",
              "      <td>-0.151</td>\n",
              "      <td>-0.151</td>\n",
              "      <td>0.018</td>\n",
              "    </tr>\n",
              "    <tr>\n",
              "      <th>avgRH</th>\n",
              "      <td>-0.279</td>\n",
              "      <td>-0.446</td>\n",
              "      <td>0.117</td>\n",
              "      <td>-0.090</td>\n",
              "      <td>0.298</td>\n",
              "      <td>-0.568</td>\n",
              "      <td>1.000</td>\n",
              "      <td>0.583</td>\n",
              "      <td>0.079</td>\n",
              "      <td>0.217</td>\n",
              "      <td>-0.240</td>\n",
              "    </tr>\n",
              "    <tr>\n",
              "      <th>PP</th>\n",
              "      <td>0.190</td>\n",
              "      <td>0.016</td>\n",
              "      <td>0.169</td>\n",
              "      <td>0.002</td>\n",
              "      <td>0.300</td>\n",
              "      <td>-0.458</td>\n",
              "      <td>0.583</td>\n",
              "      <td>1.000</td>\n",
              "      <td>-0.207</td>\n",
              "      <td>-0.123</td>\n",
              "      <td>0.184</td>\n",
              "    </tr>\n",
              "    <tr>\n",
              "      <th>avgW</th>\n",
              "      <td>-0.604</td>\n",
              "      <td>-0.556</td>\n",
              "      <td>-0.011</td>\n",
              "      <td>0.050</td>\n",
              "      <td>-0.069</td>\n",
              "      <td>-0.151</td>\n",
              "      <td>0.079</td>\n",
              "      <td>-0.207</td>\n",
              "      <td>1.000</td>\n",
              "      <td>0.920</td>\n",
              "      <td>-0.584</td>\n",
              "    </tr>\n",
              "    <tr>\n",
              "      <th>VM</th>\n",
              "      <td>-0.667</td>\n",
              "      <td>-0.631</td>\n",
              "      <td>-0.124</td>\n",
              "      <td>-0.060</td>\n",
              "      <td>-0.156</td>\n",
              "      <td>-0.151</td>\n",
              "      <td>0.217</td>\n",
              "      <td>-0.123</td>\n",
              "      <td>0.920</td>\n",
              "      <td>1.000</td>\n",
              "      <td>-0.606</td>\n",
              "    </tr>\n",
              "    <tr>\n",
              "      <th>CO2_percapita</th>\n",
              "      <td>0.966</td>\n",
              "      <td>0.867</td>\n",
              "      <td>0.383</td>\n",
              "      <td>0.327</td>\n",
              "      <td>0.407</td>\n",
              "      <td>0.018</td>\n",
              "      <td>-0.240</td>\n",
              "      <td>0.184</td>\n",
              "      <td>-0.584</td>\n",
              "      <td>-0.606</td>\n",
              "      <td>1.000</td>\n",
              "    </tr>\n",
              "  </tbody>\n",
              "</table>\n",
              "</div>"
            ],
            "text/plain": [
              "                Year  sealevel   avgT  ...   avgW     VM  CO2_percapita\n",
              "Year           1.000     0.910  0.382  ... -0.604 -0.667          0.966\n",
              "sealevel       0.910     1.000  0.194  ... -0.556 -0.631          0.867\n",
              "avgT           0.382     0.194  1.000  ... -0.011 -0.124          0.383\n",
              "maxT           0.324     0.194  0.889  ...  0.050 -0.060          0.327\n",
              "minT           0.416     0.197  0.949  ... -0.069 -0.156          0.407\n",
              "slp            0.026     0.321 -0.573  ... -0.151 -0.151          0.018\n",
              "avgRH         -0.279    -0.446  0.117  ...  0.079  0.217         -0.240\n",
              "PP             0.190     0.016  0.169  ... -0.207 -0.123          0.184\n",
              "avgW          -0.604    -0.556 -0.011  ...  1.000  0.920         -0.584\n",
              "VM            -0.667    -0.631 -0.124  ...  0.920  1.000         -0.606\n",
              "CO2_percapita  0.966     0.867  0.383  ... -0.584 -0.606          1.000\n",
              "\n",
              "[11 rows x 11 columns]"
            ]
          },
          "metadata": {
            "tags": []
          },
          "execution_count": 19
        }
      ]
    },
    {
      "cell_type": "markdown",
      "metadata": {
        "id": "83u0e_yHpSAY"
      },
      "source": [
        "### Standardizing the features"
      ]
    },
    {
      "cell_type": "code",
      "metadata": {
        "id": "4sPAqweeEmwL"
      },
      "source": [
        "df_md['Std_sealevel'] = (df_md['sealevel']-df_md['sealevel'].mean())/df_md['sealevel'].std()\n",
        "df_md['Std_avgT'] = (df_md['avgT']-df_md['avgT'].mean())/df_md['avgT'].std()\n",
        "df_md['Std_slp'] = (df_md['slp']-df_md['slp'].mean())/df_md['slp'].std()\n",
        "df_md['Std_avgRH'] = (df_md['avgRH']-df_md['avgRH'].mean())/df_md['avgRH'].std()\n",
        "df_md['Std_PP'] = (df_md['PP']-df_md['PP'].mean())/df_md['PP'].std()\n",
        "df_md['Std_avgW'] = (df_md['avgW']-df_md['avgW'].mean())/df_md['avgW'].std()\n",
        "df_md['Std_CO2pc'] = (df_md['CO2_percapita']-df_md['CO2_percapita'].mean())/df_md['CO2_percapita'].std()"
      ],
      "execution_count": 5,
      "outputs": []
    },
    {
      "cell_type": "markdown",
      "metadata": {
        "id": "47euEV4AKwxn"
      },
      "source": [
        "### Dropping unimportant features"
      ]
    },
    {
      "cell_type": "code",
      "metadata": {
        "id": "VVZCyx0zrYQM"
      },
      "source": [
        "df_md.drop(['sealevel','avgT','maxT','minT','slp','avgRH','PP','avgW','VM','CO2_percapita'], axis = 1 ,inplace=True)"
      ],
      "execution_count": 7,
      "outputs": []
    },
    {
      "cell_type": "markdown",
      "metadata": {
        "id": "DHE-ao5cpgrV"
      },
      "source": [
        "### Checking the correlation"
      ]
    },
    {
      "cell_type": "code",
      "metadata": {
        "colab": {
          "base_uri": "https://localhost:8080/",
          "height": 300
        },
        "id": "WOPeZIf7G2cj",
        "outputId": "edfa0b48-57e0-4d31-895d-7a5a7f54ead7"
      },
      "source": [
        "corr = df_md.corr()\n",
        "corr.round(3)"
      ],
      "execution_count": 8,
      "outputs": [
        {
          "output_type": "execute_result",
          "data": {
            "text/html": [
              "<div>\n",
              "<style scoped>\n",
              "    .dataframe tbody tr th:only-of-type {\n",
              "        vertical-align: middle;\n",
              "    }\n",
              "\n",
              "    .dataframe tbody tr th {\n",
              "        vertical-align: top;\n",
              "    }\n",
              "\n",
              "    .dataframe thead th {\n",
              "        text-align: right;\n",
              "    }\n",
              "</style>\n",
              "<table border=\"1\" class=\"dataframe\">\n",
              "  <thead>\n",
              "    <tr style=\"text-align: right;\">\n",
              "      <th></th>\n",
              "      <th>Year</th>\n",
              "      <th>Std_sealevel</th>\n",
              "      <th>Std_avgT</th>\n",
              "      <th>Std_slp</th>\n",
              "      <th>Std_avgRH</th>\n",
              "      <th>Std_PP</th>\n",
              "      <th>Std_avgW</th>\n",
              "      <th>Std_CO2pc</th>\n",
              "    </tr>\n",
              "  </thead>\n",
              "  <tbody>\n",
              "    <tr>\n",
              "      <th>Year</th>\n",
              "      <td>1.000</td>\n",
              "      <td>0.910</td>\n",
              "      <td>0.382</td>\n",
              "      <td>0.026</td>\n",
              "      <td>-0.279</td>\n",
              "      <td>0.190</td>\n",
              "      <td>-0.604</td>\n",
              "      <td>0.966</td>\n",
              "    </tr>\n",
              "    <tr>\n",
              "      <th>Std_sealevel</th>\n",
              "      <td>0.910</td>\n",
              "      <td>1.000</td>\n",
              "      <td>0.194</td>\n",
              "      <td>0.321</td>\n",
              "      <td>-0.446</td>\n",
              "      <td>0.016</td>\n",
              "      <td>-0.556</td>\n",
              "      <td>0.867</td>\n",
              "    </tr>\n",
              "    <tr>\n",
              "      <th>Std_avgT</th>\n",
              "      <td>0.382</td>\n",
              "      <td>0.194</td>\n",
              "      <td>1.000</td>\n",
              "      <td>-0.573</td>\n",
              "      <td>0.117</td>\n",
              "      <td>0.169</td>\n",
              "      <td>-0.011</td>\n",
              "      <td>0.383</td>\n",
              "    </tr>\n",
              "    <tr>\n",
              "      <th>Std_slp</th>\n",
              "      <td>0.026</td>\n",
              "      <td>0.321</td>\n",
              "      <td>-0.573</td>\n",
              "      <td>1.000</td>\n",
              "      <td>-0.568</td>\n",
              "      <td>-0.458</td>\n",
              "      <td>-0.151</td>\n",
              "      <td>0.018</td>\n",
              "    </tr>\n",
              "    <tr>\n",
              "      <th>Std_avgRH</th>\n",
              "      <td>-0.279</td>\n",
              "      <td>-0.446</td>\n",
              "      <td>0.117</td>\n",
              "      <td>-0.568</td>\n",
              "      <td>1.000</td>\n",
              "      <td>0.583</td>\n",
              "      <td>0.079</td>\n",
              "      <td>-0.240</td>\n",
              "    </tr>\n",
              "    <tr>\n",
              "      <th>Std_PP</th>\n",
              "      <td>0.190</td>\n",
              "      <td>0.016</td>\n",
              "      <td>0.169</td>\n",
              "      <td>-0.458</td>\n",
              "      <td>0.583</td>\n",
              "      <td>1.000</td>\n",
              "      <td>-0.207</td>\n",
              "      <td>0.184</td>\n",
              "    </tr>\n",
              "    <tr>\n",
              "      <th>Std_avgW</th>\n",
              "      <td>-0.604</td>\n",
              "      <td>-0.556</td>\n",
              "      <td>-0.011</td>\n",
              "      <td>-0.151</td>\n",
              "      <td>0.079</td>\n",
              "      <td>-0.207</td>\n",
              "      <td>1.000</td>\n",
              "      <td>-0.584</td>\n",
              "    </tr>\n",
              "    <tr>\n",
              "      <th>Std_CO2pc</th>\n",
              "      <td>0.966</td>\n",
              "      <td>0.867</td>\n",
              "      <td>0.383</td>\n",
              "      <td>0.018</td>\n",
              "      <td>-0.240</td>\n",
              "      <td>0.184</td>\n",
              "      <td>-0.584</td>\n",
              "      <td>1.000</td>\n",
              "    </tr>\n",
              "  </tbody>\n",
              "</table>\n",
              "</div>"
            ],
            "text/plain": [
              "               Year  Std_sealevel  Std_avgT  ...  Std_PP  Std_avgW  Std_CO2pc\n",
              "Year          1.000         0.910     0.382  ...   0.190    -0.604      0.966\n",
              "Std_sealevel  0.910         1.000     0.194  ...   0.016    -0.556      0.867\n",
              "Std_avgT      0.382         0.194     1.000  ...   0.169    -0.011      0.383\n",
              "Std_slp       0.026         0.321    -0.573  ...  -0.458    -0.151      0.018\n",
              "Std_avgRH    -0.279        -0.446     0.117  ...   0.583     0.079     -0.240\n",
              "Std_PP        0.190         0.016     0.169  ...   1.000    -0.207      0.184\n",
              "Std_avgW     -0.604        -0.556    -0.011  ...  -0.207     1.000     -0.584\n",
              "Std_CO2pc     0.966         0.867     0.383  ...   0.184    -0.584      1.000\n",
              "\n",
              "[8 rows x 8 columns]"
            ]
          },
          "metadata": {
            "tags": []
          },
          "execution_count": 8
        }
      ]
    },
    {
      "cell_type": "markdown",
      "metadata": {
        "id": "0ArKFBJpqCXk"
      },
      "source": [
        "## Converting the standardized master database into a csv"
      ]
    },
    {
      "cell_type": "code",
      "metadata": {
        "id": "ZMkYx95-AfyW"
      },
      "source": [
        "pd.DataFrame(df_md).to_csv(\"Std_mdb.csv\")"
      ],
      "execution_count": 9,
      "outputs": []
    }
  ]
}