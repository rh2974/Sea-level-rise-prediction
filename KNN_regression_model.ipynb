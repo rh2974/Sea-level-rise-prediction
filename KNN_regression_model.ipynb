{
  "nbformat": 4,
  "nbformat_minor": 0,
  "metadata": {
    "colab": {
      "name": "KNN_regression_model.ipynb",
      "provenance": []
    },
    "kernelspec": {
      "name": "python3",
      "display_name": "Python 3"
    }
  },
  "cells": [
    {
      "cell_type": "markdown",
      "metadata": {
        "id": "D54aIVgOXuNH"
      },
      "source": [
        "# KNN regression model"
      ]
    },
    {
      "cell_type": "code",
      "metadata": {
        "colab": {
          "base_uri": "https://localhost:8080/"
        },
        "id": "SrTI8cwpBgd9",
        "outputId": "7b6abf66-0dbe-49aa-82c5-1fa348f614fd"
      },
      "source": [
        "from google.colab import drive\n",
        "\n",
        "drive.mount('/content/drive')"
      ],
      "execution_count": 1,
      "outputs": [
        {
          "output_type": "stream",
          "text": [
            "Drive already mounted at /content/drive; to attempt to forcibly remount, call drive.mount(\"/content/drive\", force_remount=True).\n"
          ],
          "name": "stdout"
        }
      ]
    },
    {
      "cell_type": "markdown",
      "metadata": {
        "id": "2BlgQRreg93r"
      },
      "source": [
        "### Importing the recquired packages"
      ]
    },
    {
      "cell_type": "code",
      "metadata": {
        "id": "tDioznvoBqrz"
      },
      "source": [
        "import pandas as pd\n",
        "import numpy as np\n",
        "import seaborn as sns\n",
        "from sklearn import datasets\n",
        "from sklearn.model_selection import train_test_split  \n",
        "from sklearn import metrics\n",
        "from sklearn.preprocessing import StandardScaler\n",
        "from sklearn.metrics import *\n",
        "from sklearn import preprocessing\n",
        "from sklearn import neighbors\n",
        "from sklearn.model_selection import GridSearchCV\n",
        "from sklearn.metrics import mean_squared_error \n",
        "from math import sqrt\n",
        "from numpy.random import seed\n",
        "\n",
        "import matplotlib.pyplot as plt\n",
        "%matplotlib inline"
      ],
      "execution_count": 2,
      "outputs": []
    },
    {
      "cell_type": "code",
      "metadata": {
        "id": "DCpE1rA6Z1KU"
      },
      "source": [
        "seed(1)"
      ],
      "execution_count": 3,
      "outputs": []
    },
    {
      "cell_type": "markdown",
      "metadata": {
        "id": "hgUhJw5uYZrE"
      },
      "source": [
        "### Loading the data into the dataframe"
      ]
    },
    {
      "cell_type": "code",
      "metadata": {
        "id": "zpkd5y22Bq1Z"
      },
      "source": [
        "df_md = pd.read_csv(\"/content/drive/My Drive/CSV Files/Std_mdb.csv\", index_col=[0])"
      ],
      "execution_count": 4,
      "outputs": []
    },
    {
      "cell_type": "code",
      "metadata": {
        "id": "qqudXg2DBq6w"
      },
      "source": [
        "df_md.drop(['sealevel','avgT','maxT','minT','slp','avgRH','PP','avgW','VM','CO2_percapita'], axis = 1 ,inplace=True)"
      ],
      "execution_count": 5,
      "outputs": []
    },
    {
      "cell_type": "markdown",
      "metadata": {
        "id": "z7YXveysY36E"
      },
      "source": [
        "### Splitting the data into training and testing sets"
      ]
    },
    {
      "cell_type": "code",
      "metadata": {
        "id": "wRYLFipVBrDj"
      },
      "source": [
        "train , test = train_test_split(df_md, test_size = 0.20,random_state = 0)"
      ],
      "execution_count": 6,
      "outputs": []
    },
    {
      "cell_type": "code",
      "metadata": {
        "id": "YMKONugfJe-V"
      },
      "source": [
        "x_train = train.drop('Std_sealevel', axis=1)\n",
        "y_train = train['Std_sealevel']\n",
        "\n",
        "x_test = test.drop('Std_sealevel', axis=1)\n",
        "y_test = test['Std_sealevel']"
      ],
      "execution_count": 7,
      "outputs": []
    },
    {
      "cell_type": "markdown",
      "metadata": {
        "id": "9ny63K_6a0sB"
      },
      "source": [
        "###Implementing GridsearchCV to determine the optimum value of k "
      ]
    },
    {
      "cell_type": "code",
      "metadata": {
        "colab": {
          "base_uri": "https://localhost:8080/"
        },
        "id": "h3tB2ypascwP",
        "outputId": "bf52ba33-36dc-44bf-c38a-b14f75adf02e"
      },
      "source": [
        "from sklearn.model_selection import GridSearchCV\n",
        "params = {'n_neighbors':[2,3,4,5,6,7,8,9,10,11,12,13,14,15,16,17,18,19,20]}\n",
        "\n",
        "knn = neighbors.KNeighborsRegressor()\n",
        "\n",
        "model = GridSearchCV(knn, params)\n",
        "model.fit(x_train,y_train)\n",
        "model.best_params_"
      ],
      "execution_count": 8,
      "outputs": [
        {
          "output_type": "execute_result",
          "data": {
            "text/plain": [
              "{'n_neighbors': 7}"
            ]
          },
          "metadata": {
            "tags": []
          },
          "execution_count": 8
        }
      ]
    },
    {
      "cell_type": "code",
      "metadata": {
        "colab": {
          "base_uri": "https://localhost:8080/"
        },
        "id": "1h98uquVuI75",
        "outputId": "8a24ccbc-950c-4e45-e4be-c81c76b3b42f"
      },
      "source": [
        "type(model.best_params_)\n",
        "keys, values = zip(*model.best_params_.items()) \n",
        "print (\"keys : \", str(keys)) \n",
        "print (\"values : \", str(values)) \n",
        "type(values)\n",
        "k_opt = int(''.join(map(str, values))) \n"
      ],
      "execution_count": 10,
      "outputs": [
        {
          "output_type": "stream",
          "text": [
            "keys :  ('n_neighbors',)\n",
            "values :  (7,)\n"
          ],
          "name": "stdout"
        }
      ]
    },
    {
      "cell_type": "markdown",
      "metadata": {
        "id": "QJzPcZXBbO3I"
      },
      "source": [
        "### Fitting the model"
      ]
    },
    {
      "cell_type": "code",
      "metadata": {
        "id": "LOzQwCdzRs96"
      },
      "source": [
        "knn = neighbors.KNeighborsRegressor(n_neighbors=k_opt, weights= 'distance')\n",
        "knn.fit(x_train, y_train)"
      ],
      "execution_count": 11,
      "outputs": []
    },
    {
      "cell_type": "markdown",
      "metadata": {
        "id": "YfkNKN4HbbiX"
      },
      "source": [
        "### Utilizing the model to generate predictions"
      ]
    },
    {
      "cell_type": "code",
      "metadata": {
        "id": "OBiDXC0PbaN4"
      },
      "source": [
        "predict = knn.predict(x_test)"
      ],
      "execution_count": 15,
      "outputs": []
    },
    {
      "cell_type": "markdown",
      "metadata": {
        "id": "Awen8WrWbmFx"
      },
      "source": [
        "### Calculating the r-squared, adjusted r-squared and the RMSE of the model"
      ]
    },
    {
      "cell_type": "code",
      "metadata": {
        "colab": {
          "base_uri": "https://localhost:8080/"
        },
        "id": "PGpXKQ9KcyUQ",
        "outputId": "9c8a3a7a-65aa-41b7-8bce-aa51c97ee1c9"
      },
      "source": [
        "r21 = r2_score(y_test,predict).round(3)\n",
        "print(f\"The r-squared value of the new fit is\", r21)\n",
        "p = len(x_train.columns) \n",
        "n = len(x_train)\n",
        "r21_adj = 1 - ((1-r21) * (n-1) / (n-p-1))\n",
        "rms = sqrt(mean_squared_error(y_test, predict))\n",
        "print(f\"The adjusted r-squared value of the new fit is\", r21_adj)\n",
        "print(f'The RMSE value of the fit is',rms)"
      ],
      "execution_count": 12,
      "outputs": [
        {
          "output_type": "stream",
          "text": [
            "The r-squared value of the new fit is 0.86\n",
            "The adjusted r-squared value of the new fit is 0.8583625730994152\n",
            "The RMSE value of the fit is 0.00470018141145316\n"
          ],
          "name": "stdout"
        }
      ]
    },
    {
      "cell_type": "markdown",
      "metadata": {
        "id": "M3erCB1Sbv-I"
      },
      "source": [
        "### Diagnostic Plots "
      ]
    },
    {
      "cell_type": "code",
      "metadata": {
        "colab": {
          "base_uri": "https://localhost:8080/",
          "height": 295
        },
        "id": "Pjv3aq_9c7p0",
        "outputId": "bf425237-ebff-44c0-f57a-37959d5303cc"
      },
      "source": [
        "plt.scatter(predict,y_test)\n",
        "x = np.linspace(0.23,0.285,1000)\n",
        "plt.plot(x,x, linestyle = 'solid', color = \"red\")\n",
        "plt.xlabel(\"Predicted Values\")\n",
        "plt.ylabel(\"Actual Values\")\n",
        "plt.title(\"Predicted Values vs Actual Values\")\n",
        "plt.show()\n"
      ],
      "execution_count": 16,
      "outputs": [
        {
          "output_type": "display_data",
          "data": {
            "image/png": "[encoded data removed]",
            "text/plain": [
              "<Figure size 432x288 with 1 Axes>"
            ]
          },
          "metadata": {
            "tags": [],
            "needs_background": "light"
          }
        }
      ]
    },
    {
      "cell_type": "code",
      "metadata": {
        "colab": {
          "base_uri": "https://localhost:8080/",
          "height": 295
        },
        "id": "jJWRBd51fjHo",
        "outputId": "976c353a-d975-4601-cd3a-71b89998cade"
      },
      "source": [
        "res = y_test - predict\n",
        "res_stand = (res - res.mean())/res.std()\n",
        "plt.scatter(predict, res_stand )\n",
        "plt.axhline(y = 0, color = 'red' )\n",
        "plt.title(\"Predicted Values vs Residuals of the new model\")\n",
        "plt.xlabel(\"Predicted values\")\n",
        "plt.ylabel(\"Residuals\")\n",
        "plt.show()"
      ],
      "execution_count": 14,
      "outputs": [
        {
          "output_type": "display_data",
          "data": {
            "image/png": "[encoded data removed]",
            "text/plain": [
              "<Figure size 432x288 with 1 Axes>"
            ]
          },
          "metadata": {
            "tags": [],
            "needs_background": "light"
          }
        }
      ]
    }
  ]
}